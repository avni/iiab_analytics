{
 "cells": [
  {
   "cell_type": "markdown",
   "metadata": {},
   "source": [
    "# Investigating the Data Stream\n",
    "\n",
    "[Previously](https://github.com/cwivagg/iiab_analytics/blob/main/notebooks/notebook20211222.md), we pulled some issue logs from the Internet-in-a-Box repository. Now, we'll take a quick look at the data. We'll start by loading the data itself and some basic dependencies."
   ]
  },
  {
   "cell_type": "code",
   "execution_count": 1,
   "metadata": {},
   "outputs": [
    {
     "name": "stdout",
     "output_type": "stream",
     "text": [
      "Example menu:\n",
      "\n",
      "['en-oob', 'en-sample', 'en-test_zim', 'en-test_mod', 'en-map_admin', 'en-osm_viewer_v2', 'en-usb', 'en-kalite', 'en-raspberrypi_stackexchange_com_en_all', 'en-wikiquote_en_all_nopic', 'en-wiktionary_en_all_nopic', 'en-wikipedia_en_all_nopic', 'en-musictheory', 'en-olpc', 'en-asst_medical', 'en-math_expression', 'en-rpi_guide', 'en-peacebuilding', 'en-understanding_algebra', 'en-scratch', 'en-wikem', 'en-ebooks', 'en-practical_action', 'en-siyavula', 'en-algebra2go', 'en-boundless', 'en-credits']\n"
     ]
    }
   ],
   "source": [
    "import json\n",
    "import matplotlib.pyplot as plt\n",
    "import numpy as np\n",
    "import os\n",
    "import pandas as pd\n",
    "import seaborn as sns\n",
    "\n",
    "DATA_HOME = \"../..\" # Just a local directory where we put the previous notebook entry's data.\n",
    "\n",
    "menus = []\n",
    "with open(os.path.join(DATA_HOME, \"menus.json\")) as f:\n",
    "    for line in f:\n",
    "        menu = json.loads(line)[\"menu_items_1\"]\n",
    "        menus.append(menu)\n",
    "\n",
    "print(\"Example menu:\\n\\n\" + str(menus[0]))"
   ]
  },
  {
   "cell_type": "markdown",
   "metadata": {},
   "source": [
    "## Issues Over Time\n",
    "\n",
    "One simple question is how frequently issues are being created: will we want to rerun our data pipeline daily, weekly, or more rarely? Is the amount of data increasing? We approached these questions by using a simple command line  utility to parse the creation dates of the issues that we previously assembled:\n",
    "\n",
    "```\n",
    "# In DATA_HOME\n",
    "cat iiab_issues.json|jq '.[]' -Sc|grep \"sprunge\"|jq '.created_at' -r\n",
    "```\n",
    "\n",
    "We leverage the knowledge that each issue containing data will have a URL to a Sprunge pastebin."
   ]
  },
  {
   "cell_type": "code",
   "execution_count": 2,
   "metadata": {},
   "outputs": [
    {
     "data": {
      "image/png": "[encoded data removed]",
      "text/plain": [
       "<Figure size 432x288 with 1 Axes>"
      ]
     },
     "metadata": {
      "needs_background": "light"
     },
     "output_type": "display_data"
    }
   ],
   "source": [
    "issue_dates = pd.read_csv(os.path.join(DATA_HOME, \"creation_dates.txt\"),\n",
    "                          names=[\"issues\"],\n",
    "                          parse_dates=[\"issues\"],\n",
    "                          infer_datetime_format=True)\n",
    "dates_df = issue_dates.groupby([issue_dates[\"issues\"].dt.to_period('M')]).count().resample('M').sum().fillna(0)\n",
    "ax = dates_df.plot.bar(legend=False)                # Cleaning up a bunch of messy display defaults.\n",
    "ax.axes.get_xaxis().get_label().set_visible(False)  #\n",
    "ax.set_ylabel(\"Issue Count\")                        #\n",
    "plt.show()"
   ]
  },
  {
   "cell_type": "markdown",
   "metadata": {},
   "source": [
    "It looks like we don't have a lot of issues that submitted data files yet, but the number is increasing steadily over time, and a bit faster more recently."
   ]
  },
  {
   "cell_type": "markdown",
   "metadata": {},
   "source": [
    "# Dealing with Language\n",
    "\n",
    "Our ultimate goal is to recommend groups of related modules to users who will be interested in them. In the short term, however, we just want to identify as many of these groups as we might be able to: we don't have a lot of data, so we won't be able to go very far. First, we'll investigate what languages we can plausibly make groups for. In the long term, we might hope to implicitly discover which languages go well together and match which users just from module- and user-level information, but since we have a small sample, we'll avoid making \"We Look Stupid\" mistakes by using a rule. We make use of the fact that each module's language is encoded with the two-letter [ISO 639-1 code](https://en.wikipedia.org/wiki/List_of_ISO_639-1_codes) and prepended to the module name:"
   ]
  },
  {
   "cell_type": "code",
   "execution_count": 3,
   "metadata": {},
   "outputs": [
    {
     "name": "stdout",
     "output_type": "stream",
     "text": [
      "Counter({'en': 27})\n",
      "Counter({'en': 20})\n",
      "Counter({'en': 13})\n",
      "Counter({'en': 39})\n",
      "Counter({'es': 25, 'en': 4})\n",
      "Counter({'en': 39})\n",
      "Counter({'en': 17})\n",
      "Counter({'en': 20})\n",
      "Counter({'en': 14})\n",
      "Counter({'en': 15})\n",
      "Counter({'en': 21})\n",
      "Counter({'en': 11})\n",
      "Counter({'es': 25, 'en': 4})\n",
      "Counter({'fr': 21, 'en': 1})\n",
      "Counter({'en': 14})\n",
      "Counter({'en': 9})\n",
      "Counter({'en': 133})\n",
      "Counter({'en': 133})\n",
      "Counter({'en': 16})\n",
      "Counter({'es': 25, 'en': 4})\n",
      "Counter({'en': 19})\n",
      "Counter({'en': 10})\n"
     ]
    }
   ],
   "source": [
    "from collections import Counter\n",
    "\n",
    "def count_languages(menu):\n",
    "    languages = [module[:2] for module in menu]\n",
    "    return Counter(languages)\n",
    "\n",
    "language_dicts = [count_languages(menu) for menu in menus]\n",
    "for d in language_dicts:\n",
    "    print(d)"
   ]
  },
  {
   "cell_type": "markdown",
   "metadata": {},
   "source": [
    "A quick scan of the module groups that we downloaded reveals that most of the users have chosen English modules, with a small handful choosing French and Spanish. These users have a few English modules each, but not a significant amount and the ones they do have are probably just defaults. Thus, for now, we'll just look at the menus that are majority-English."
   ]
  },
  {
   "cell_type": "code",
   "execution_count": 4,
   "metadata": {},
   "outputs": [
    {
     "name": "stdout",
     "output_type": "stream",
     "text": [
      "Found 18 English menus\n"
     ]
    }
   ],
   "source": [
    "def find_majority_language(menu):\n",
    "    language_dict = count_languages(menu)\n",
    "    return max(language_dict, key=language_dict.get)\n",
    "\n",
    "english_menus = []\n",
    "for menu in menus:\n",
    "    if find_majority_language(menu) == \"en\":\n",
    "        english_menus.append(menu)\n",
    "print(\"Found {} English menus\".format(len(english_menus)))"
   ]
  },
  {
   "cell_type": "code",
   "execution_count": 5,
   "metadata": {},
   "outputs": [
    {
     "name": "stdout",
     "output_type": "stream",
     "text": [
      "Average number of modules is 31.7\n",
      "Median number of modules is 18.0\n"
     ]
    }
   ],
   "source": [
    "from statistics import median\n",
    "\n",
    "lengths = [len(menu) for menu in english_menus]\n",
    "print(\"Average number of modules is {:.1f}\".format(sum(lengths)/len(english_menus), '   '))\n",
    "print(\"Median number of modules is {:.1f}\".format(median(lengths)))"
   ]
  },
  {
   "cell_type": "markdown",
   "metadata": {},
   "source": [
    "## Find Menu Similarities\n",
    "\n",
    "Now that we have a basic idea of what the data looks like, we'll start looking for patterns in what modules people choose. We'll make use of a paradigm from the recommendations field, the item-item matrix. An item-item matrix counts the number of times two modules are chosen by the same user."
   ]
  },
  {
   "cell_type": "code",
   "execution_count": 6,
   "metadata": {},
   "outputs": [
    {
     "name": "stdout",
     "output_type": "stream",
     "text": [
      "['en-PhET' 'en-afristory' 'en-algebra2go']\n",
      "[[3 3 1]\n",
      " [3 4 1]\n",
      " [1 1 2]]\n"
     ]
    }
   ],
   "source": [
    "from sklearn.feature_extraction.text import CountVectorizer\n",
    "\n",
    "cts = CountVectorizer(analyzer=lambda x: x) # Usually, CountVectorizer is used to convert documents to bags of words.\n",
    "                                            # Since our modules are already lists, we can skip this part.\n",
    "X = cts.fit_transform(english_menus)\n",
    "Xc = (X.T * X).toarray()\n",
    "print(cts.get_feature_names_out()[:3])\n",
    "print(Xc[:3,:3])"
   ]
  },
  {
   "cell_type": "markdown",
   "metadata": {},
   "source": [
    "We can read this output like so: for the *i*th row and *j*th column, the matrix entry represents the number of times the *i*th and *j*th modules were selected together. So, en-PhET and en-algebra2go occurred in exactly one ```menu.json``` together, while en-PhET and en-afristory occurred in three ```menu.json``` lists together. The main diagonal is the number of times each module co-occurs with itself, or in other words, the total count of occurrences of that module. So en-PhET was selected three times, en-afristory four, and en-algebra2go two."
   ]
  }
 ],
 "metadata": {
  "kernelspec": {
   "display_name": "Python [conda env:iiab_v1]",
   "language": "python",
   "name": "conda-env-iiab_v1-py"
  },
  "language_info": {
   "codemirror_mode": {
    "name": "ipython",
    "version": 3
   },
   "file_extension": ".py",
   "mimetype": "text/x-python",
   "name": "python",
   "nbconvert_exporter": "python",
   "pygments_lexer": "ipython3",
   "version": "3.9.7"
  }
 },
 "nbformat": 4,
 "nbformat_minor": 4
}
