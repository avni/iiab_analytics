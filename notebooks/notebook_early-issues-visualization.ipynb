{
 "cells": [
  {
   "cell_type": "code",
   "execution_count": 1,
   "metadata": {},
   "outputs": [],
   "source": [
    "import json\n",
    "import matplotlib.pyplot as plt\n",
    "import numpy as np\n",
    "import pandas as pd\n",
    "import seaborn as sns\n",
    "\n",
    "from sklearn.feature_extraction.text import CountVectorizer\n",
    "from statistics import median"
   ]
  },
  {
   "cell_type": "code",
   "execution_count": 2,
   "metadata": {},
   "outputs": [],
   "source": [
    "issue_dates = pd.read_csv(\"creation_dates.txt\", names=[\"dates\"], parse_dates=[\"dates\"], infer_datetime_format=True)"
   ]
  },
  {
   "cell_type": "code",
   "execution_count": 3,
   "metadata": {},
   "outputs": [
    {
     "data": {
      "image/png": "[encoded data removed]",
      "text/plain": [
       "<Figure size 432x288 with 1 Axes>"
      ]
     },
     "metadata": {
      "needs_background": "light"
     },
     "output_type": "display_data"
    }
   ],
   "source": [
    "df = issue_dates.groupby([issue_dates[\"dates\"].dt.to_period('M')]).count().resample('M').sum().fillna(0)\n",
    "df.plot.bar()\n",
    "plt.show()"
   ]
  },
  {
   "cell_type": "code",
   "execution_count": 4,
   "metadata": {},
   "outputs": [
    {
     "name": "stdout",
     "output_type": "stream",
     "text": [
      "Example menu:\n",
      "\n",
      "en-oob en-sample en-test_zim en-test_mod en-map_admin en-osm_viewer_v2 en-usb en-kalite en-raspberrypi_stackexchange_com_en_all en-wikiquote_en_all_nopic en-wiktionary_en_all_nopic en-wikipedia_en_all_nopic en-musictheory en-olpc en-asst_medical en-math_expression en-rpi_guide en-peacebuilding en-understanding_algebra en-scratch en-wikem en-ebooks en-practical_action en-siyavula en-algebra2go en-boundless en-credits\n"
     ]
    }
   ],
   "source": [
    "menus = []\n",
    "with open(\"menus.json\") as f:\n",
    "    for line in f:\n",
    "        menus.append(' '.join(json.loads(line)[\"menu_items_1\"]))\n",
    "print(\"Example menu:\\n\\n\" + menus[0])"
   ]
  },
  {
   "cell_type": "markdown",
   "metadata": {},
   "source": [
    "# Dealing with Language\n",
    "\n",
    "Our ultimate goal is to recommend groups of related modules to users who will be interested in them. In the short term, however, we just want to identify as many of these groups as we might be able to: we don't have a lot of data, so we won't be able to go very far. First, we'll investigate what languages we can plausibly make groups for. In the long term, we might hope to implicitly discover which languages go well together and match which users just from module- and user-level information, but since we have a small sample, we'll avoid making \"We Look Stupid\" mistakes by using a rule. We make use of the fact that each module's language is encoded with the two-letter [ISO 639-1 code](https://en.wikipedia.org/wiki/List_of_ISO_639-1_codes) and prepended to the module name:"
   ]
  },
  {
   "cell_type": "code",
   "execution_count": 5,
   "metadata": {},
   "outputs": [
    {
     "name": "stdout",
     "output_type": "stream",
     "text": [
      "[{'en': 27}, {'en': 20}, {'en': 13}, {'en': 39}, {'es': 25, 'en': 4}, {'en': 39}, {'en': 17}, {'en': 20}, {'en': 14}, {'en': 15}, {'en': 21}, {'en': 11}, {'es': 25, 'en': 4}, {'fr': 21, 'en': 1}, {'en': 14}, {'en': 9}, {'en': 133}, {'en': 133}, {'en': 16}, {'es': 25, 'en': 4}, {'en': 19}, {'en': 10}]\n"
     ]
    }
   ],
   "source": [
    "def count_languages(menu):\n",
    "    language_dict = {}\n",
    "    for module in menu:\n",
    "        language = module[:2]\n",
    "        if language in language_dict:\n",
    "            language_dict[language] += 1\n",
    "        else:\n",
    "            language_dict[language] = 1\n",
    "    return language_dict\n",
    "\n",
    "language_dicts = [count_languages(menu.split(' ')) for menu in menus]\n",
    "print(language_dicts)"
   ]
  },
  {
   "cell_type": "markdown",
   "metadata": {},
   "source": [
    "A quick scan of the module groups that we downloaded reveals that most of the users have chosen English modules, with a small handful choosing French and Spanish. These users have a few English modules each, but not a significant amount and the ones they do have are probably just defaults. Thus, for now, we'll just look at the menus that are majority-English."
   ]
  },
  {
   "cell_type": "code",
   "execution_count": 6,
   "metadata": {},
   "outputs": [
    {
     "name": "stdout",
     "output_type": "stream",
     "text": [
      "Found 18 English menus\n"
     ]
    }
   ],
   "source": [
    "def find_majority_language(menu):\n",
    "    language_dict = dict()\n",
    "    for module in menu.split():\n",
    "        language = module[:2]\n",
    "        if language in language_dict:\n",
    "            language_dict[language] += 1\n",
    "        else:\n",
    "            language_dict[language] = 1\n",
    "    return max(language_dict, key=language_dict.get)\n",
    "\n",
    "english_menus = []\n",
    "for menu in menus:\n",
    "    if find_majority_language(menu) == \"en\":\n",
    "        english_menus.append(menu)\n",
    "print(\"Found {} English menus\".format(len(english_menus)))"
   ]
  },
  {
   "cell_type": "code",
   "execution_count": 7,
   "metadata": {},
   "outputs": [
    {
     "name": "stdout",
     "output_type": "stream",
     "text": [
      "Average number of modules is 734.1\n",
      "Median number of modules is 236.5\n"
     ]
    }
   ],
   "source": [
    "lengths = [len(menu) for menu in english_menus]\n",
    "print(\"Average number of modules is {:.1f}\".format(sum(lengths)/len(english_menus), '   '))\n",
    "print(\"Median number of modules is {:.1f}\".format(median(lengths)))"
   ]
  },
  {
   "cell_type": "code",
   "execution_count": 8,
   "metadata": {},
   "outputs": [],
   "source": [
    "t = lambda x: x.split()\n",
    "cts = CountVectorizer(tokenizer=t)\n",
    "X = cts.fit_transform(english_menus)\n",
    "Xc = (X.T * X)"
   ]
  },
  {
   "cell_type": "code",
   "execution_count": 9,
   "metadata": {},
   "outputs": [
    {
     "name": "stderr",
     "output_type": "stream",
     "text": [
      "/Users/cwivagg/opt/anaconda3/envs/iiab_v1/lib/python3.9/site-packages/seaborn/matrix.py:654: UserWarning: Clustering large matrix with scipy. Installing `fastcluster` may give better performance.\n",
      "  warnings.warn(msg)\n"
     ]
    },
    {
     "data": {
      "image/png": "[encoded data removed]",
      "text/plain": [
       "<Figure size 720x720 with 4 Axes>"
      ]
     },
     "metadata": {
      "needs_background": "light"
     },
     "output_type": "display_data"
    }
   ],
   "source": [
    "model = sns.clustermap(Xc.toarray(), cmap=\"viridis\", vmax=12, xticklabels=False, yticklabels=False)\n",
    "#cm = sns.heatmap(Xc.toarray()[model.dendrogram_row.reordered_ind][:,model.dendrogram_col.reordered_ind])\n",
    "model.ax_row_dendrogram.set_visible(False)\n",
    "model.ax_col_dendrogram.set_visible(False)\n",
    "plt.show()"
   ]
  }
 ],
 "metadata": {
  "kernelspec": {
   "display_name": "Python [conda env:iiab_v1]",
   "language": "python",
   "name": "conda-env-iiab_v1-py"
  },
  "language_info": {
   "codemirror_mode": {
    "name": "ipython",
    "version": 3
   },
   "file_extension": ".py",
   "mimetype": "text/x-python",
   "name": "python",
   "nbconvert_exporter": "python",
   "pygments_lexer": "ipython3",
   "version": "3.9.7"
  }
 },
 "nbformat": 4,
 "nbformat_minor": 4
}
