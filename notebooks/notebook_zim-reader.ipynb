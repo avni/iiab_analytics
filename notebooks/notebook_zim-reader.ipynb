{
 "cells": [
  {
   "cell_type": "code",
   "execution_count": 1,
   "id": "ff68813d",
   "metadata": {},
   "outputs": [],
   "source": [
    "from zimscan import Reader"
   ]
  },
  {
   "cell_type": "code",
   "execution_count": null,
   "id": "375517b5",
   "metadata": {},
   "outputs": [],
   "source": []
  }
 ],
 "metadata": {
  "kernelspec": {
   "display_name": "Python [conda env:iiab_v1]",
   "language": "python",
   "name": "conda-env-iiab_v1-py"
  },
  "language_info": {
   "codemirror_mode": {
    "name": "ipython",
    "version": 3
   },
   "file_extension": ".py",
   "mimetype": "text/x-python",
   "name": "python",
   "nbconvert_exporter": "python",
   "pygments_lexer": "ipython3",
   "version": "3.9.7"
  }
 },
 "nbformat": 4,
 "nbformat_minor": 5
}
