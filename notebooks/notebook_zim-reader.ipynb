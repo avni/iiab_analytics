{
 "cells": [
  {
   "cell_type": "code",
   "execution_count": 1,
   "id": "ff68813d",
   "metadata": {},
   "outputs": [],
   "source": [
    "from zimscan import Reader"
   ]
  },
  {
   "cell_type": "code",
   "execution_count": 2,
   "id": "375517b5",
   "metadata": {},
   "outputs": [],
   "source": [
    "DATA_HOME = \"../..\" # Just a local directory for data objects, in this case ZIM files.\n",
    "TEST_OBJECT = \"ted_en_playlist-who-are-the-hackers_2021-12.zim\" # An initial object to do some exploration on."
   ]
  },
  {
   "cell_type": "code",
   "execution_count": 3,
   "id": "450732b3",
   "metadata": {},
   "outputs": [],
   "source": [
    "import os\n",
    "\n",
    "data_path = os.path.join(DATA_HOME, TEST_OBJECT)"
   ]
  },
  {
   "cell_type": "code",
   "execution_count": 4,
   "id": "db1f4682",
   "metadata": {},
   "outputs": [],
   "source": [
    "records = []\n",
    "with Reader(open(data_path, 'rb')) as reader:\n",
    "    for record in reader:\n",
    "        records.append(record.read())"
   ]
  },
  {
   "cell_type": "code",
   "execution_count": 5,
   "id": "56fa7064",
   "metadata": {},
   "outputs": [
    {
     "data": {
      "text/plain": [
       "bytes"
      ]
     },
     "execution_count": 5,
     "metadata": {},
     "output_type": "execute_result"
    }
   ],
   "source": [
    "obj = records[5]\n",
    "type(obj)"
   ]
  }
 ],
 "metadata": {
  "kernelspec": {
   "display_name": "Python [conda env:iiab_v1]",
   "language": "python",
   "name": "conda-env-iiab_v1-py"
  },
  "language_info": {
   "codemirror_mode": {
    "name": "ipython",
    "version": 3
   },
   "file_extension": ".py",
   "mimetype": "text/x-python",
   "name": "python",
   "nbconvert_exporter": "python",
   "pygments_lexer": "ipython3",
   "version": "3.9.7"
  }
 },
 "nbformat": 4,
 "nbformat_minor": 5
}
